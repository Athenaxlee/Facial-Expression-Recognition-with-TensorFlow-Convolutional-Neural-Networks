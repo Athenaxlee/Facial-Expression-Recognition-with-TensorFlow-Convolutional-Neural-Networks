{
 "cells": [
  {
   "cell_type": "markdown",
   "metadata": {
    "collapsed": false
   },
   "source": [
    "\n",
    "\n",
    "\n",
    "\n",
    "# Facial Expression Recognition with TensorFlow CNN\n",
    "\n",
    "## Problem Statement: \n",
    "## The task is to categorize each face (images) based on the emotion shown in the facial expression in to one of seven categories \n",
    "\n",
    "#### 0=Angry \n",
    "#### 1=Disgust \n",
    "#### 2=Fear\n",
    "#### 3=Happy\n",
    "#### 4=Sad\n",
    "#### 5=Surprise\n",
    "#### 6=Neutral\n",
    "\n",
    "## Method: Use CNN model to conduct images classification\n",
    "#### Detailed CNN structure is showed below\n",
    "\n",
    "## Challenges in Representation Learning - Facial Expression Recognition Challenge:  https://www.kaggle.com/c/challenges-in-representation-learning-facial-expression-recognition-challenge"
   ]
  },
  {
   "cell_type": "code",
   "execution_count": 1,
   "metadata": {
    "collapsed": false
   },
   "outputs": [
    {
     "name": "stderr",
     "output_type": "stream",
     "text": [
      "Using TensorFlow backend.\n"
     ]
    }
   ],
   "source": [
    "import pandas as pd\n",
    "import numpy as np\n",
    "from keras.models import Sequential\n",
    "from keras.layers import Dense\n",
    "from keras.layers import Dropout\n",
    "from keras.layers import Flatten\n",
    "from keras.layers.convolutional import Convolution2D\n",
    "from keras.layers.convolutional import MaxPooling2D \n",
    "from keras.utils import np_utils\n",
    "#from keras import backend as K\n",
    "from keras.regularizers import l1, activity_l1\n",
    "from keras.callbacks import ModelCheckpoint\n",
    "\n",
    "from sklearn.metrics import accuracy_score\n",
    "from sklearn.metrics import confusion_matrix\n",
    "import itertools\n",
    "%matplotlib inline\n",
    "import matplotlib.pyplot as plt\n",
    "import matplotlib.cm as cm"
   ]
  },
  {
   "cell_type": "markdown",
   "metadata": {},
   "source": [
    "#### The data consists of 48x48 pixel grayscale images of faces. The faces have been automatically registered so that the face is more or less centered and occupies about the same amount of space in each image. The task is to categorize each face based on the emotion shown in the facial expression in to one of seven categories (0=Angry, 1=Disgust, 2=Fear, 3=Happy, 4=Sad, 5=Surprise, 6=Neutral)."
   ]
  },
  {
   "cell_type": "markdown",
   "metadata": {},
   "source": [
    "# Data inspection"
   ]
  },
  {
   "cell_type": "code",
   "execution_count": 2,
   "metadata": {
    "collapsed": false
   },
   "outputs": [],
   "source": [
    "train = pd.read_csv(\"train.csv\")"
   ]
  },
  {
   "cell_type": "code",
   "execution_count": 3,
   "metadata": {
    "collapsed": true
   },
   "outputs": [],
   "source": [
    "test = pd.read_csv(\"test.csv\")"
   ]
  },
  {
   "cell_type": "code",
   "execution_count": 4,
   "metadata": {
    "collapsed": false
   },
   "outputs": [
    {
     "data": {
      "text/html": [
       "<div>\n",
       "<table border=\"1\" class=\"dataframe\">\n",
       "  <thead>\n",
       "    <tr style=\"text-align: right;\">\n",
       "      <th></th>\n",
       "      <th>Unnamed: 0</th>\n",
       "      <th>emotion</th>\n",
       "      <th>pixels</th>\n",
       "      <th>Usage</th>\n",
       "    </tr>\n",
       "  </thead>\n",
       "  <tbody>\n",
       "    <tr>\n",
       "      <th>0</th>\n",
       "      <td>17092</td>\n",
       "      <td>0</td>\n",
       "      <td>8 7 6 5 5 5 5 3 4 5 4 3 3 7 5 6 7 7 8 7 4 0 0 ...</td>\n",
       "      <td>Training</td>\n",
       "    </tr>\n",
       "    <tr>\n",
       "      <th>1</th>\n",
       "      <td>8965</td>\n",
       "      <td>0</td>\n",
       "      <td>46 58 76 56 47 43 32 29 22 22 29 20 17 26 22 2...</td>\n",
       "      <td>Training</td>\n",
       "    </tr>\n",
       "    <tr>\n",
       "      <th>2</th>\n",
       "      <td>6024</td>\n",
       "      <td>0</td>\n",
       "      <td>179 178 225 218 216 215 217 220 222 224 225 22...</td>\n",
       "      <td>Training</td>\n",
       "    </tr>\n",
       "    <tr>\n",
       "      <th>3</th>\n",
       "      <td>6270</td>\n",
       "      <td>0</td>\n",
       "      <td>219 117 182 186 138 135 146 151 157 163 156 15...</td>\n",
       "      <td>Training</td>\n",
       "    </tr>\n",
       "    <tr>\n",
       "      <th>4</th>\n",
       "      <td>19268</td>\n",
       "      <td>0</td>\n",
       "      <td>70 69 84 85 93 101 118 146 156 152 153 157 159...</td>\n",
       "      <td>Training</td>\n",
       "    </tr>\n",
       "  </tbody>\n",
       "</table>\n",
       "</div>"
      ],
      "text/plain": [
       "   Unnamed: 0  emotion                                             pixels  \\\n",
       "0       17092        0  8 7 6 5 5 5 5 3 4 5 4 3 3 7 5 6 7 7 8 7 4 0 0 ...   \n",
       "1        8965        0  46 58 76 56 47 43 32 29 22 22 29 20 17 26 22 2...   \n",
       "2        6024        0  179 178 225 218 216 215 217 220 222 224 225 22...   \n",
       "3        6270        0  219 117 182 186 138 135 146 151 157 163 156 15...   \n",
       "4       19268        0  70 69 84 85 93 101 118 146 156 152 153 157 159...   \n",
       "\n",
       "      Usage  \n",
       "0  Training  \n",
       "1  Training  \n",
       "2  Training  \n",
       "3  Training  \n",
       "4  Training  "
      ]
     },
     "execution_count": 4,
     "metadata": {},
     "output_type": "execute_result"
    }
   ],
   "source": [
    "train.head()"
   ]
  },
  {
   "cell_type": "code",
   "execution_count": 5,
   "metadata": {
    "collapsed": false
   },
   "outputs": [
    {
     "name": "stdout",
     "output_type": "stream",
     "text": [
      "The number of traning set samples: 3052\n",
      "The number of testing set samples: 777\n"
     ]
    }
   ],
   "source": [
    "print (\"The number of traning set samples: {}\".format(len(train)))\n",
    "print (\"The number of testing set samples: {}\".format(len(test)))"
   ]
  },
  {
   "cell_type": "code",
   "execution_count": 6,
   "metadata": {
    "collapsed": false
   },
   "outputs": [
    {
     "name": "stdout",
     "output_type": "stream",
     "text": [
      "Training dataset emotion and its count\n"
     ]
    },
    {
     "data": {
      "text/plain": [
       "5    436\n",
       "3    436\n",
       "1    436\n",
       "6    436\n",
       "4    436\n",
       "2    436\n",
       "0    436\n",
       "Name: emotion, dtype: int64"
      ]
     },
     "execution_count": 6,
     "metadata": {},
     "output_type": "execute_result"
    }
   ],
   "source": [
    "print (\"Training dataset emotion and its count\")\n",
    "train.emotion.value_counts()"
   ]
  },
  {
   "cell_type": "code",
   "execution_count": 7,
   "metadata": {
    "collapsed": false
   },
   "outputs": [
    {
     "name": "stdout",
     "output_type": "stream",
     "text": [
      "Testing dataset emotion and its count\n"
     ]
    },
    {
     "data": {
      "text/plain": [
       "6    111\n",
       "5    111\n",
       "4    111\n",
       "3    111\n",
       "2    111\n",
       "1    111\n",
       "0    111\n",
       "Name: emotion, dtype: int64"
      ]
     },
     "execution_count": 7,
     "metadata": {},
     "output_type": "execute_result"
    }
   ],
   "source": [
    "print (\"Testing dataset emotion and its count\")\n",
    "test.emotion.value_counts()"
   ]
  },
  {
   "cell_type": "code",
   "execution_count": 8,
   "metadata": {
    "collapsed": true
   },
   "outputs": [],
   "source": [
    "#this function is to plot any certain emotion in certain dataset randomly\n",
    "def Plot_SomeEmotion_Sample_Randomly(emotion, dataset):\n",
    "    #select certain emotion sub dataset\n",
    "    EmotionSet = dataset[dataset.emotion == emotion]\n",
    "    #randomly select one sample\n",
    "    pixels_list = EmotionSet.sample(1).pixels.str.split(\" \").tolist()\n",
    "    #convert to 48*48 format\n",
    "    show_image = np.array(pixels_list, dtype=float).reshape(48,48)\n",
    "    #plot the image\n",
    "    plt.imshow(show_image, cmap='gray')"
   ]
  },
  {
   "cell_type": "code",
   "execution_count": 15,
   "metadata": {
    "collapsed": false
   },
   "outputs": [
    {
     "data": {
      "image/png": "[encoded data removed]",
      "text/plain": [
       "<matplotlib.figure.Figure at 0x1288c9ef0>"
      ]
     },
     "metadata": {},
     "output_type": "display_data"
    }
   ],
   "source": [
    "#plot randomly disgust image\n",
    "Plot_SomeEmotion_Sample_Randomly(1, train)"
   ]
  },
  {
   "cell_type": "code",
   "execution_count": 17,
   "metadata": {
    "collapsed": false
   },
   "outputs": [
    {
     "data": {
      "image/png": "[encoded data removed]",
      "text/plain": [
       "<matplotlib.figure.Figure at 0x1288e22b0>"
      ]
     },
     "metadata": {},
     "output_type": "display_data"
    }
   ],
   "source": [
    "#plot randomly happy image\n",
    "Plot_SomeEmotion_Sample_Randomly(3, train)"
   ]
  },
  {
   "cell_type": "markdown",
   "metadata": {
    "collapsed": true
   },
   "source": [
    "# Data pre-processing"
   ]
  },
  {
   "cell_type": "code",
   "execution_count": 5,
   "metadata": {
    "collapsed": true
   },
   "outputs": [],
   "source": [
    "#convert flatten data to 48*48 matrix\n",
    "def reshapeTo48and48(dataset):\n",
    "    #extract pixels value from original pandas dataframe\n",
    "    pixels_values = dataset.pixels.str.split(\" \").tolist()\n",
    "    #convert pixels of each image to 48*48 formats\n",
    "    images = []\n",
    "    for image in np.array(pixels_values, dtype=float):\n",
    "        images.append(image.reshape(48, 48))\n",
    "    return np.array(images, dtype=float)"
   ]
  },
  {
   "cell_type": "code",
   "execution_count": 6,
   "metadata": {
    "collapsed": true
   },
   "outputs": [],
   "source": [
    "train_images = reshapeTo48and48(train)\n",
    "test_images = reshapeTo48and48(test)"
   ]
  },
  {
   "cell_type": "code",
   "execution_count": null,
   "metadata": {
    "collapsed": true
   },
   "outputs": [],
   "source": []
  },
  {
   "cell_type": "code",
   "execution_count": 20,
   "metadata": {
    "collapsed": true
   },
   "outputs": [],
   "source": [
    "#reshape to [# of samples][width][height][pixels] for tensorflow-keras input format\n",
    "train_images = train_images.reshape(train_images.shape[0], 48, 48, 1).astype('float32')\n",
    "test_images = test_images.reshape(test_images.shape[0], 48, 48, 1).astype('float32')"
   ]
  },
  {
   "cell_type": "code",
   "execution_count": 21,
   "metadata": {
    "collapsed": false
   },
   "outputs": [
    {
     "data": {
      "text/plain": [
       "(3052, 48, 48, 1)"
      ]
     },
     "execution_count": 21,
     "metadata": {},
     "output_type": "execute_result"
    }
   ],
   "source": [
    "#check input format\n",
    "train_images.shape"
   ]
  },
  {
   "cell_type": "code",
   "execution_count": 25,
   "metadata": {
    "collapsed": true
   },
   "outputs": [],
   "source": [
    "#normilize the data\n",
    "train_images = train_images/255\n",
    "test_images = test_images/255"
   ]
  },
  {
   "cell_type": "code",
   "execution_count": 26,
   "metadata": {
    "collapsed": true
   },
   "outputs": [],
   "source": [
    "#One hot encode outputs: change target(emotion) values to input format with one-hot encode\n",
    "train_targets = np_utils.to_categorical(train.emotion.values)\n",
    "test_targets = np_utils.to_categorical(test.emotion.values)"
   ]
  },
  {
   "cell_type": "code",
   "execution_count": 27,
   "metadata": {
    "collapsed": true
   },
   "outputs": [],
   "source": [
    "#set number of prediction classes\n",
    "num_classes = test_targets.shape[1]"
   ]
  },
  {
   "cell_type": "markdown",
   "metadata": {},
   "source": [
    "# Build the CNN model"
   ]
  },
  {
   "cell_type": "markdown",
   "metadata": {},
   "source": [
    "### 1. Documents on CNN layers:\n",
    "\n",
    "#### Keras Sequential model introduction: https://keras.io/getting-started/sequential-model-guide/\n",
    "\n",
    "#### Dropout is a technique where randomly selected neurons are ignored during training\n",
    "#### Dropout API: https://keras.io/layers/core/#dropout\n",
    "\n",
    "#### Convolution2D API: https://keras.io/layers/convolutional/#convolution2d\n",
    "\n",
    "#### MaxPooling2D API: https://keras.io/layers/pooling/#maxpooling2d\n",
    "\n",
    "#### MaxPooling2D API: https://keras.io/layers/pooling/#maxpooling2d\n",
    "\n",
    "#### Dense (Locally Connected Layer) API: https://keras.io/layers/core/#dense\n",
    "\n",
    "#### Flatten API: https://keras.io/layers/core/#flatten"
   ]
  },
  {
   "cell_type": "markdown",
   "metadata": {},
   "source": [
    "### 2. Structure of below CNN:\n",
    "\n",
    "##### Input\n",
    "##### Dropout layer\n",
    "##### Convolution layer + relu layer\n",
    "##### Max pooling layer\n",
    "##### Convolution layer + relu layer\n",
    "##### Max pooling layer\n",
    "##### Dropout layer\n",
    "##### Fully connected layer (dense)\n",
    "##### Dropout layer\n",
    "##### Fully connected layer (dense)\n",
    "##### classifier"
   ]
  },
  {
   "cell_type": "code",
   "execution_count": 28,
   "metadata": {
    "collapsed": true
   },
   "outputs": [],
   "source": [
    "def sample_model():\n",
    "    #initial model\n",
    "    model = Sequential()\n",
    "    #add dropout to reduce overfitting\n",
    "    model.add(Dropout(0.2, input_shape=(48, 48, 1)))\n",
    "    #with 64 filters, 5*5 for convolutional kernel and activation 'relu'\n",
    "    model.add(Convolution2D(64, 5, 5, input_shape=(48, 48, 1), activation='relu'))\n",
    "    #pooling layer\n",
    "    model.add(MaxPooling2D(pool_size=(2, 2)))\n",
    "    model.add(Convolution2D(128, 5, 5, activation='relu'))\n",
    "    model.add(MaxPooling2D(pool_size=(2, 2)))\n",
    "    model.add(Dropout(0.2))\n",
    "    model.add(Flatten())\n",
    "    #fully connected layer\n",
    "    model.add(Dense(600, activation='relu'))\n",
    "    model.add(Dropout(0.2))\n",
    "    model.add(Dense(200, activation='relu'))\n",
    "    model.add(Dense(num_classes, W_regularizer=l1(0.01), \n",
    "                    activity_regularizer=activity_l1(0.01), \n",
    "                    activation='softmax'))\n",
    "    return model"
   ]
  },
  {
   "cell_type": "code",
   "execution_count": 29,
   "metadata": {
    "collapsed": false
   },
   "outputs": [],
   "source": [
    "model = sample_model()"
   ]
  },
  {
   "cell_type": "markdown",
   "metadata": {},
   "source": [
    "##### If you want to train and save the model, you could run next three parts of code. It may take 30 minutes, which depend on your computer"
   ]
  },
  {
   "cell_type": "code",
   "execution_count": 30,
   "metadata": {
    "collapsed": false
   },
   "outputs": [],
   "source": [
    "#set information for saveing model\n",
    "filename = \"MyBestModel.hdf5\"\n",
    "check_point = ModelCheckpoint(filename, monitor='val_acc', verbose=2, save_best_only=True,\n",
    "                              mode='max')\n",
    "callbacks_list = [check_point]"
   ]
  },
  {
   "cell_type": "code",
   "execution_count": 31,
   "metadata": {
    "collapsed": false
   },
   "outputs": [
    {
     "name": "stdout",
     "output_type": "stream",
     "text": [
      "Train on 3052 samples, validate on 777 samples\n",
      "Epoch 1/2\n",
      "Epoch 00000: val_acc improved from -inf to 0.18275, saving model to MyBestModel.hdf5\n",
      "67s - loss: 3.8118 - acc: 0.1356 - val_loss: 3.5653 - val_acc: 0.1828\n",
      "Epoch 2/2\n",
      "Epoch 00001: val_acc improved from 0.18275 to 0.21750, saving model to MyBestModel.hdf5\n",
      "61s - loss: 3.4070 - acc: 0.1694 - val_loss: 3.2178 - val_acc: 0.2175\n"
     ]
    }
   ],
   "source": [
    "#training model\n",
    "##complie\n",
    "model.compile(loss='categorical_crossentropy', optimizer='adam', metrics=['accuracy'])\n",
    "##begin to train and save training history\n",
    "history = model.fit(train_images, train_targets, validation_data=(test_images, test_targets), \n",
    "          nb_epoch=2, batch_size=80, callbacks=callbacks_list, verbose=2)"
   ]
  },
  {
   "cell_type": "code",
   "execution_count": 32,
   "metadata": {
    "collapsed": false
   },
   "outputs": [
    {
     "data": {
      "image/png": "[encoded data removed]",
      "text/plain": [
       "<matplotlib.figure.Figure at 0x12cd101d0>"
      ]
     },
     "metadata": {},
     "output_type": "display_data"
    }
   ],
   "source": [
    "# plot history for accuracy\n",
    "plt.plot(history.history['acc'])\n",
    "plt.plot(history.history['val_acc'])\n",
    "plt.title('Accuracy-Iteration Graph')\n",
    "plt.ylabel('Accuracy')\n",
    "plt.xlabel('Iteration(epoch)')\n",
    "plt.legend(['train',  'test'], loc='upper left')\n",
    "plt.show()                                                                                          "
   ]
  },
  {
   "cell_type": "markdown",
   "metadata": {},
   "source": [
    "# Continue to train the prior saved model\n",
    "### To save our time, we can reload the weights of prior trained model and continue to train with same or different CNN model"
   ]
  },
  {
   "cell_type": "code",
   "execution_count": null,
   "metadata": {
    "collapsed": true
   },
   "outputs": [],
   "source": [
    "#you can design the CNN structure by changing below CNN structure\n",
    "def continued_model():\n",
    "    #initial model\n",
    "    model = Sequential()\n",
    "    #add dropout to reduce overfitting\n",
    "    model.add(Dropout(0.2, input_shape=(48, 48, 1)))\n",
    "    #with 64 filters, 5*5 for convolutional kernel and activation 'relu'\n",
    "    model.add(Convolution2D(64, 5, 5, input_shape=(48, 48, 1), activation='relu'))\n",
    "    #pooling layer\n",
    "    model.add(MaxPooling2D(pool_size=(2, 2)))\n",
    "    model.add(Convolution2D(128, 5, 5, activation='relu'))\n",
    "    model.add(MaxPooling2D(pool_size=(2, 2)))\n",
    "    model.add(Dropout(0.2))\n",
    "    model.add(Flatten())\n",
    "    #fully connected layer\n",
    "    model.add(Dense(600, activation='relu'))\n",
    "    model.add(Dropout(0.2))\n",
    "    model.add(Dense(200, activation='relu'))\n",
    "    model.add(Dense(num_classes, W_regularizer=l1(0.01), \n",
    "                    activity_regularizer=activity_l1(0.01), \n",
    "                    activation='softmax'))\n",
    "    return model"
   ]
  },
  {
   "cell_type": "code",
   "execution_count": 20,
   "metadata": {
    "collapsed": true
   },
   "outputs": [],
   "source": [
    "continued_model = continued_model()"
   ]
  },
  {
   "cell_type": "code",
   "execution_count": 22,
   "metadata": {
    "collapsed": false
   },
   "outputs": [],
   "source": [
    "continued_model.load_weights('BestModel.hdf5')"
   ]
  },
  {
   "cell_type": "code",
   "execution_count": 24,
   "metadata": {
    "collapsed": true
   },
   "outputs": [],
   "source": [
    "#set information for saveing model\n",
    "filename = \"MyContinuedBestModel.hdf5\"\n",
    "check_point = ModelCheckpoint(filename, monitor='val_acc', verbose=2, save_best_only=True,\n",
    "                              mode='max')\n",
    "callbacks_list = [check_point]"
   ]
  },
  {
   "cell_type": "code",
   "execution_count": 28,
   "metadata": {
    "collapsed": false
   },
   "outputs": [
    {
     "name": "stdout",
     "output_type": "stream",
     "text": [
      "Train on 3052 samples, validate on 777 samples\n",
      "Epoch 1/5\n",
      "Epoch 00000: val_acc improved from -inf to 0.35650, saving model to MyContinuedBestModel.hdf5\n",
      "73s - loss: 1.9966 - acc: 0.5855 - val_loss: 2.5017 - val_acc: 0.3565\n",
      "Epoch 2/5\n",
      "Epoch 00001: val_acc improved from 0.35650 to 0.38610, saving model to MyContinuedBestModel.hdf5\n",
      "69s - loss: 1.9514 - acc: 0.5944 - val_loss: 2.5026 - val_acc: 0.3861\n",
      "Epoch 3/5\n",
      "Epoch 00002: val_acc did not improve\n",
      "92s - loss: 1.9053 - acc: 0.6222 - val_loss: 2.5159 - val_acc: 0.3668\n",
      "Epoch 4/5\n",
      "Epoch 00003: val_acc did not improve\n",
      "78s - loss: 1.8569 - acc: 0.6350 - val_loss: 2.5223 - val_acc: 0.3810\n",
      "Epoch 5/5\n",
      "Epoch 00004: val_acc did not improve\n",
      "95s - loss: 1.8493 - acc: 0.6389 - val_loss: 2.5474 - val_acc: 0.3784\n"
     ]
    }
   ],
   "source": [
    "##complie\n",
    "continued_model.compile(loss='categorical_crossentropy', optimizer='adam', metrics=['accuracy'])\n",
    "##begin to train and save training history\n",
    "continued_history = continued_model.fit(train_images, train_targets, validation_data=(test_images, test_targets), \n",
    "                                        nb_epoch=5, batch_size=80, callbacks=callbacks_list, verbose=2)"
   ]
  },
  {
   "cell_type": "code",
   "execution_count": 29,
   "metadata": {
    "collapsed": false
   },
   "outputs": [
    {
     "data": {
      "image/png": "[encoded data removed]",
      "text/plain": [
       "<matplotlib.figure.Figure at 0x124f9aa50>"
      ]
     },
     "metadata": {},
     "output_type": "display_data"
    }
   ],
   "source": [
    "# plot history for accuracy\n",
    "plt.plot(continued_history.history['acc'])\n",
    "plt.plot(continued_history.history['val_acc'])\n",
    "plt.title('Accuracy-Iteration Graph')\n",
    "plt.ylabel('Accuracy')\n",
    "plt.xlabel('Iteration(epoch)')\n",
    "plt.legend(['train',  'test'], loc='upper left')\n",
    "plt.show() "
   ]
  },
  {
   "cell_type": "markdown",
   "metadata": {},
   "source": [
    "# Load saved trained model & show the final analysis"
   ]
  },
  {
   "cell_type": "code",
   "execution_count": 46,
   "metadata": {
    "collapsed": true
   },
   "outputs": [],
   "source": [
    "#build a saved_model and load weights\n",
    "Saved_model = sample_model()\n",
    "Saved_model.load_weights(\"BestModel2.hdf5\")\n",
    "Saved_model.compile(loss='categorical_crossentropy', optimizer='adam', metrics=['accuracy'])"
   ]
  },
  {
   "cell_type": "code",
   "execution_count": 49,
   "metadata": {
    "collapsed": true
   },
   "outputs": [],
   "source": [
    "#get loss value and accuracy for testing set\n",
    "scores = Saved_model.evaluate(test_images, test_targets, verbose=0)"
   ]
  },
  {
   "cell_type": "code",
   "execution_count": 50,
   "metadata": {
    "collapsed": false
   },
   "outputs": [
    {
     "name": "stdout",
     "output_type": "stream",
     "text": [
      "acc: 37.19%\n"
     ]
    }
   ],
   "source": [
    "#print accuracy\n",
    "print(\"%s: %.2f%%\" % (model.metrics_names[1], scores[1]*100))"
   ]
  },
  {
   "cell_type": "markdown",
   "metadata": {},
   "source": [
    "### Draw confusion matric to evaluate the final model"
   ]
  },
  {
   "cell_type": "code",
   "execution_count": 53,
   "metadata": {
    "collapsed": false
   },
   "outputs": [],
   "source": [
    "Saved_prediction = Saved_model.predict_classes(test_images, verbose=0)"
   ]
  },
  {
   "cell_type": "code",
   "execution_count": 58,
   "metadata": {
    "collapsed": false
   },
   "outputs": [],
   "source": [
    "True_prediction = test.emotion.values"
   ]
  },
  {
   "cell_type": "code",
   "execution_count": 62,
   "metadata": {
    "collapsed": false
   },
   "outputs": [],
   "source": [
    "cm = confusion_matrix(True_prediction, Saved_prediction)"
   ]
  },
  {
   "cell_type": "code",
   "execution_count": 63,
   "metadata": {
    "collapsed": true
   },
   "outputs": [],
   "source": [
    "def plot_confusion_matrix(cm, classes,\n",
    "                          normalize=False,\n",
    "                          title='Confusion matrix',\n",
    "                          cmap=plt.cm.Blues):\n",
    "    \"\"\"\n",
    "    This function prints and plots the confusion matrix.\n",
    "    Normalization can be applied by setting `normalize=True`.\n",
    "    \"\"\"\n",
    "    plt.imshow(cm, interpolation='nearest', cmap=cmap)\n",
    "    plt.title(title)\n",
    "    plt.colorbar()\n",
    "    tick_marks = np.arange(len(classes))\n",
    "    plt.xticks(tick_marks, classes, rotation=45)\n",
    "    plt.yticks(tick_marks, classes)\n",
    "\n",
    "    if normalize:\n",
    "        cm = cm.astype('float') / cm.sum(axis=1)[:, np.newaxis]\n",
    "        print(\"Normalized confusion matrix\")\n",
    "    else:\n",
    "        print('Confusion matrix, without normalization')\n",
    "\n",
    "    print(cm)\n",
    "\n",
    "    thresh = cm.max() / 2.\n",
    "    for i, j in itertools.product(range(cm.shape[0]), range(cm.shape[1])):\n",
    "        plt.text(j, i, int(cm[i, j]*100)/100.0,\n",
    "                 horizontalalignment=\"center\",\n",
    "                 color=\"white\" if cm[i, j] > thresh else \"black\")\n",
    "\n",
    "    plt.tight_layout()\n",
    "    plt.ylabel('True label')\n",
    "    plt.xlabel('Predicted label')"
   ]
  },
  {
   "cell_type": "code",
   "execution_count": 65,
   "metadata": {
    "collapsed": false
   },
   "outputs": [
    {
     "name": "stdout",
     "output_type": "stream",
     "text": [
      "Confusion matrix, without normalization\n",
      "[[21 17 17 13 30  5  8]\n",
      " [ 7 67 11 10 10  3  3]\n",
      " [ 9 11 18 12 36 16  9]\n",
      " [ 6  8  5 61 19  4  8]\n",
      " [19 11 10 19 39  5  8]\n",
      " [ 6  7 15  9 14 59  1]\n",
      " [ 4 15 15 17 30  6 24]]\n"
     ]
    },
    {
     "data": {
      "image/png": "[encoded data removed]",
      "text/plain": [
       "<matplotlib.figure.Figure at 0x13fb36410>"
      ]
     },
     "metadata": {},
     "output_type": "display_data"
    }
   ],
   "source": [
    "class_names = ['Angry', 'Disgust', 'Fear', 'Happy', 'Sad', 'Surprise', 'Neutral']\n",
    "plot_confusion_matrix(cm, classes=class_names, normalize=False,\n",
    "                      title='Confusion Matrix for Test Dataset')\n",
    "plt.show()"
   ]
  },
  {
   "cell_type": "code",
   "execution_count": null,
   "metadata": {
    "collapsed": true
   },
   "outputs": [],
   "source": []
  }
 ],
 "metadata": {
  "kernelspec": {
   "display_name": "Python 3",
   "language": "python",
   "name": "python3"
  },
  "language_info": {
   "codemirror_mode": {
    "name": "ipython",
    "version": 3
   },
   "file_extension": ".py",
   "mimetype": "text/x-python",
   "name": "python",
   "nbconvert_exporter": "python",
   "pygments_lexer": "ipython3",
   "version": "3.5.3"
  }
 },
 "nbformat": 4,
 "nbformat_minor": 0
}
